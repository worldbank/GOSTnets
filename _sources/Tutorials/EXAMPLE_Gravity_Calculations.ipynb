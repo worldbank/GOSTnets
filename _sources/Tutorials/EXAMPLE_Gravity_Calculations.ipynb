{
 "cells": [
  {
   "cell_type": "code",
   "execution_count": null,
   "metadata": {},
   "outputs": [],
   "source": [
    "import os\n",
    "import sys\n",
    "import rasterio\n",
    "\n",
    "import networkx as nx\n",
    "import geopandas as gpd\n",
    "import pandas as pd"
   ]
  },
  {
   "cell_type": "code",
   "execution_count": null,
   "metadata": {},
   "outputs": [],
   "source": [
    "# add to your system path the location of the LoadOSM.py and GOSTnet.py scripts\n",
    "sys.path.append(\"../\")\n",
    "import GOSTnets as gn"
   ]
  },
  {
   "cell_type": "code",
   "execution_count": null,
   "metadata": {},
   "outputs": [],
   "source": [
    "# Define input data\n",
    "pth = \"./\"\n",
    "# Read in cleaned pickle from earlier analysis and convert to time\n",
    "G = nx.read_gpickle(\n",
    "    os.path.join(pth, \"tutorial_outputs\", r\"iceland_network_clean.pickle\")\n",
    ")\n",
    "G_time = gn.convert_network_to_time(\n",
    "    G, distance_tag=\"length\", road_col=\"infra_type\", factor=1000\n",
    ")\n",
    "# Define origins and destinations\n",
    "rek_grid_file = os.path.join(pth, \"tutorial_data\", \"rek_grid.shp\")\n",
    "rek_pop_grid_file = rek_grid_file.replace(\".shp\", \"_pop.shp\")\n",
    "churches_file = os.path.join(pth, \"tutorial_data\", \"churches.shp\")"
   ]
  },
  {
   "cell_type": "markdown",
   "metadata": {},
   "source": [
    "# Gravity calculations\n",
    "\n",
    "When we discuss gravity calculations, we are combining two measures to identify the attractiveness between pairs of locations\n",
    "1. Travel time between origins and destinations\n",
    "2. Weight of the value of interest at both the origin and destination\n",
    "\n",
    "‘Market access’ is a measure of accessibility from one origin to all destinations, based purely on time. The outcome of this analysis is often visualized as an ‘isochrone’, centered on a given origin point. Isochrones depict how far away from the origin you can move, in all directions, within a certain time frame. (E.g. 1 hour).\n",
    "\n",
    "‘Market potential’ can be assessed by weighting all potential destinations by a factor designed to represent their attractiveness to the origin point. In the context of performing commercial site selection, such factors might include GDP per capita or population (positively related), or the number of other firms (negatively related). "
   ]
  },
  {
   "cell_type": "code",
   "execution_count": null,
   "metadata": {},
   "outputs": [],
   "source": [
    "# Sample rek_grid with population - the data should already be in the tutorial inputs, so this attribution is not necessary\n",
    "if not os.path.exists(rek_pop_grid_file):\n",
    "    population_data = \"R:\\GLOBAL\\POP&DEMO\\LandScan_2012\\lspop2012.tif\"\n",
    "\n",
    "    in_grid = gpd.read_file(rek_grid_file)\n",
    "    in_pop = rasterio.open(population_data)\n",
    "    in_grid = in_grid.to_crs(in_pop.crs)\n",
    "\n",
    "    geoms = ([x.x, x.y] for x in in_grid[\"geometry\"])\n",
    "    vals = in_pop.sample(geoms)\n",
    "    in_grid[\"Pop\"] = [x[0] + 1 for x in vals]\n",
    "\n",
    "    in_grid.to_file(rek_pop_grid_file)"
   ]
  },
  {
   "cell_type": "markdown",
   "metadata": {},
   "source": [
    "# Check out data\n",
    "\n",
    "#### open QGIS and check out rek_grid and the churches file"
   ]
  },
  {
   "cell_type": "code",
   "execution_count": null,
   "metadata": {},
   "outputs": [],
   "source": [
    "# Read in the input\n",
    "rek_grid = gpd.read_file(rek_pop_grid_file)\n",
    "in_churches = gpd.read_file(churches_file)\n",
    "in_churches = in_churches.to_crs(rek_grid.crs)"
   ]
  },
  {
   "cell_type": "code",
   "execution_count": null,
   "metadata": {},
   "outputs": [],
   "source": [
    "# calculate the origins and destinations by snapping to the road network\n",
    "origins_df = gn.pandana_snap_c(\n",
    "    G_time,\n",
    "    rek_grid,\n",
    "    source_crs=\"epsg:4326\",\n",
    "    target_crs=\"epsg:4326\",\n",
    "    add_dist_to_node_col=True,\n",
    ")\n",
    "origins = list(set(origins_df[\"NN\"]))\n",
    "destinations_df = gn.pandana_snap_c(\n",
    "    G_time,\n",
    "    in_churches,\n",
    "    source_crs=\"epsg:4326\",\n",
    "    target_crs=\"epsg:4326\",\n",
    "    add_dist_to_node_col=True,\n",
    ")\n",
    "destinations = list(set(destinations_df[\"NN\"]))"
   ]
  },
  {
   "cell_type": "code",
   "execution_count": null,
   "metadata": {},
   "outputs": [],
   "source": [
    "OD = gn.calculate_OD(G_time, origins, destinations, fail_value=9999999)"
   ]
  },
  {
   "cell_type": "code",
   "execution_count": null,
   "metadata": {},
   "outputs": [],
   "source": [
    "# The calculate_od_raw contains functions for performing OD and gravity calculations\n",
    "import GOSTnets.calculate_od_raw as calcOD\n",
    "\n",
    "# For this calculation the origins are all weighted equally with a value of 1\n",
    "gravity = calcOD.calculate_gravity(\n",
    "    OD, oWeight=[1] * OD.shape[0], dWeight=destinations_df[\"Pop\"]\n",
    ")\n",
    "gravity[\"NN\"] = origins"
   ]
  },
  {
   "cell_type": "code",
   "execution_count": null,
   "metadata": {},
   "outputs": [],
   "source": [
    "# merge the gravity results with the origins\n",
    "origins_gravity = pd.merge(origins_df, gravity, on=\"NN\")\n",
    "origins_gravity.to_file(rek_pop_grid_file.replace(\".shp\", \"_gravity.shp\"))"
   ]
  },
  {
   "cell_type": "code",
   "execution_count": null,
   "metadata": {},
   "outputs": [],
   "source": [
    "# Now let's introduce the population numbers into the origins\n",
    "origins = origins_df[\"NN\"]\n",
    "destinations = destinations_df[\"NN\"]\n",
    "OD = gn.calculate_OD(G_time, origins, destinations, fail_value=9999999)\n",
    "gravity = calcOD.calculate_gravity(\n",
    "    OD, oWeight=origins_df[\"Pop\"], dWeight=destinations_df[\"Pop\"]\n",
    ")"
   ]
  },
  {
   "cell_type": "code",
   "execution_count": null,
   "metadata": {},
   "outputs": [],
   "source": [
    "# merge the gravity results with the origins\n",
    "origins_gravity = pd.merge(origins_df, gravity, on=\"NN\")\n",
    "origins_gravity.to_file(rek_pop_grid_file.replace(\".shp\", \"_gravity2.shp\"))"
   ]
  },
  {
   "cell_type": "markdown",
   "metadata": {},
   "source": [
    "# Check out data\n",
    "\n",
    "#### open QGIS and check out rek_grid and the churches file"
   ]
  },
  {
   "cell_type": "code",
   "execution_count": null,
   "metadata": {},
   "outputs": [],
   "source": []
  }
 ],
 "metadata": {
  "language_info": {
   "name": "python"
  }
 },
 "nbformat": 4,
 "nbformat_minor": 2
}
