{
 "cells": [
  {
   "cell_type": "markdown",
   "metadata": {},
   "source": [
    "# Step 1: Extract Road Network from OpenStreetMap (OSM)\n",
    "This notebook will show you how to go from an .osm.pbf file to a GOSTnets-compatible network format. \n",
    "In addition, this notebook will show you how to:\n",
    "- Clip the roads to an input polygon (here we demonstrate with an ESRI Shapefile, rek2.shp)\n",
    "- Filter the roads DataFrame by a list of accepted road types, as tagged in OSM (see the list `accepted_road_types` that we define in the code)"
   ]
  },
  {
   "cell_type": "markdown",
   "metadata": {},
   "source": [
    "## Import Libraries\n",
    "First, we import the necessary libraries.\n",
    "In this notebook, we use the following libraries:\n",
    "- `geopandas` to manipulate geospatial data (e.g. clipping the roads to a polygon)\n",
    "- `os` to define the path to the .osm.pbf file\n",
    "- `GOSTnets` to import the OSM data and to save the network in a GOSTnets-compatible format (.gpickle in this case)"
   ]
  },
  {
   "cell_type": "code",
   "execution_count": null,
   "metadata": {},
   "outputs": [],
   "source": [
    "import geopandas as gpd\n",
    "import os\n",
    "import GOSTnets as gn"
   ]
  },
  {
   "cell_type": "markdown",
   "metadata": {},
   "source": [
    "The load_osm module is an optional GOSTNets submodule that is used to import OSM data. Make sure gdal, geopy, and boltons are installed first as it has additional dependencies (look in GOSTnets repo main README file if you need additional help with this). Then import the submodule."
   ]
  },
  {
   "cell_type": "code",
   "execution_count": null,
   "metadata": {},
   "outputs": [],
   "source": [
    "from GOSTnets.load_osm import OSM_to_network"
   ]
  },
  {
   "cell_type": "markdown",
   "metadata": {},
   "source": [
    "## Download data and set filepaths\n",
    "We will use the `osm.pbf` file for the entire country of Iceland. You can download the file from [Geofabrik](https://download.geofabrik.de/europe/iceland.html), if you didn't download it from the GOSTnets repository \"tutorial_data\" folder.\n",
    "Once you have downloaded the file, set the filepath to the .osm.pbf file, this can be a relative or absolute path.\n",
    "We demonstrate construction of a relative file path using the `os.path` module to define a relative path to the \"tutorial_data\" folder."
   ]
  },
  {
   "cell_type": "code",
   "execution_count": null,
   "metadata": {},
   "outputs": [],
   "source": [
    "pth = \"./\"  # change this path to your working folder\n",
    "fil = r\"iceland-latest.osm.pbf\"  # download this file from geofabrik: http://download.geofabrik.de/europe/iceland.html.\n",
    "\n",
    "# be sure to place the .osm.pbf file in the 'tutorial data' folder.\n",
    "\n",
    "f = os.path.join(pth, \"tutorial_data\", fil)"
   ]
  },
  {
   "cell_type": "code",
   "execution_count": null,
   "metadata": {},
   "outputs": [],
   "source": [
    "# check if the file exists, raise an exception if it does not\n",
    "if os.path.isfile(f):\n",
    "    print(\"File found.\")\n",
    "else:\n",
    "    raise Exception(\"File not found.\")\n",
    "# print the file path\n",
    "print(f)"
   ]
  },
  {
   "cell_type": "markdown",
   "metadata": {},
   "source": [
    "## Load the OSM data as a GOSTnets object\n",
    "\n",
    "GOSTNets can load OSM data as a special 'OSM_to_network' object.\n",
    "This object gets initialized with both a copy of the OSM file itself and the roads extracted from the OSM file in a GeoPandas DataFrame. \n",
    "This DataFrame is a property of the object called 'roads_raw' and is the starting point for our network."
   ]
  },
  {
   "cell_type": "code",
   "execution_count": null,
   "metadata": {},
   "outputs": [],
   "source": [
    "# convert the .osm.pbf file to a GOSTnets object\n",
    "iceland = OSM_to_network(f)"
   ]
  },
  {
   "cell_type": "code",
   "execution_count": null,
   "metadata": {},
   "outputs": [],
   "source": [
    "# show the doc-string for the OSM_to_network object\n",
    "?iceland"
   ]
  },
  {
   "cell_type": "code",
   "execution_count": null,
   "metadata": {},
   "outputs": [],
   "source": [
    "# display the first 5 rows of the extracted dataframe of the roads network\n",
    "iceland.roads_raw.head()"
   ]
  },
  {
   "cell_type": "code",
   "execution_count": null,
   "metadata": {},
   "outputs": [],
   "source": [
    "# show the different road types and counts\n",
    "iceland.roads_raw.infra_type.value_counts()"
   ]
  },
  {
   "cell_type": "markdown",
   "metadata": {},
   "source": [
    "### Define the accepted road types list\n",
    "\n",
    "We define a list of the types of roads from the above that we consider acceptable for our road network.\n",
    "This list is used to filter the roads DataFrame to only include the types specified."
   ]
  },
  {
   "cell_type": "code",
   "execution_count": null,
   "metadata": {},
   "outputs": [],
   "source": [
    "accepted_road_types = [\n",
    "    \"residential\",\n",
    "    \"unclassified\",\n",
    "    \"track\",\n",
    "    \"service\",\n",
    "    \"tertiary\",\n",
    "    \"road\",\n",
    "    \"secondary\",\n",
    "    \"primary\",\n",
    "    \"trunk\",\n",
    "    \"primary_link\",\n",
    "    \"trunk_link\",\n",
    "    \"tertiary_link\",\n",
    "    \"secondary_link\",\n",
    "]"
   ]
  },
  {
   "cell_type": "markdown",
   "metadata": {},
   "source": [
    "### Filter the roads DataFrame\n",
    "\n",
    "We call the `filterRoads` method and pass it a list of acceptable road types.\n",
    "Then we can look at the infrastructure types in the filtered roads DataFrame (similar to what was done above), except now we have filtered the roads to only include the types we want."
   ]
  },
  {
   "cell_type": "code",
   "execution_count": null,
   "metadata": {},
   "outputs": [],
   "source": [
    "iceland.filterRoads(acceptedRoads=accepted_road_types)"
   ]
  },
  {
   "cell_type": "code",
   "execution_count": null,
   "metadata": {},
   "outputs": [],
   "source": [
    "iceland.roads_raw.infra_type.value_counts()"
   ]
  },
  {
   "cell_type": "markdown",
   "metadata": {},
   "source": [
    "## Clip the roads to a polygon\n",
    "\n",
    "Here, we import a shapefile for our area of interest. We want to make a map of Reykjavik, Iceland. We clip the extent of the country file to just the area around the capital (rek2.shp) below using standard GeoPandas functions:"
   ]
  },
  {
   "cell_type": "code",
   "execution_count": null,
   "metadata": {},
   "outputs": [],
   "source": [
    "# read the shapefile for the clip area\n",
    "clip_shp = gpd.read_file(os.path.join(pth, \"tutorial_data\", \"rek2.shp\"))\n",
    "clip_shp = clip_shp.to_crs(\"epsg:4326\")\n",
    "clip_shp_obj = clip_shp.geometry.iloc[0]"
   ]
  },
  {
   "cell_type": "code",
   "execution_count": null,
   "metadata": {},
   "outputs": [],
   "source": [
    "# visualize the clip area\n",
    "clip_shp.plot()"
   ]
  },
  {
   "cell_type": "code",
   "execution_count": null,
   "metadata": {},
   "outputs": [],
   "source": [
    "# this is the geometry object (shapely) from clip_shp\n",
    "clip_shp_obj"
   ]
  },
  {
   "cell_type": "markdown",
   "metadata": {},
   "source": [
    "### Check to ensure some roads intersect the AOI\n",
    "\n",
    "We check to see everything lines up by running intersect and counting the True / False returns.\n",
    "The count of the True values are the number of roads that intersect the AOI"
   ]
  },
  {
   "cell_type": "code",
   "execution_count": null,
   "metadata": {},
   "outputs": [],
   "source": [
    "# intersects is a Shapely function that returns True if the boundary or interior of the object intersect in any way with those of the other\n",
    "iceland.roads_raw.geometry.intersects(clip_shp_obj).value_counts()"
   ]
  },
  {
   "cell_type": "markdown",
   "metadata": {},
   "source": [
    "Next we remove any roads that don't intersect the capital area, by modifying the `roads_raw` DataFrame contained within the `OSM_to_network` object "
   ]
  },
  {
   "cell_type": "code",
   "execution_count": null,
   "metadata": {},
   "outputs": [],
   "source": [
    "iceland.roads_raw = iceland.roads_raw.loc[\n",
    "    iceland.roads_raw.geometry.intersects(clip_shp_obj) == True  # noqa: E712\n",
    "]"
   ]
  },
  {
   "cell_type": "code",
   "execution_count": null,
   "metadata": {},
   "outputs": [],
   "source": [
    "# reprint the intersects value counts (should only be True now)\n",
    "iceland.roads_raw.geometry.intersects(clip_shp_obj).value_counts()"
   ]
  },
  {
   "cell_type": "markdown",
   "metadata": {},
   "source": [
    "### Generate the RoadsGPD object\n",
    "\n",
    "Having narrowed the DataFrame to the roads we are interested in, we generate the `RoadsGPD` object, which is stored as a property of the `OSM_to_network` object.\n",
    "The `RoadsGPD` object is a GeoDataFrame that further processes the roads.\n",
    "This includes splitting the edges where intersections occur, adding unique edge IDs, and adding to/from columns to the GeoDataFrame."
   ]
  },
  {
   "cell_type": "code",
   "execution_count": null,
   "metadata": {},
   "outputs": [],
   "source": [
    "# generate the roads GeoDataFrame, may take a few minutes\n",
    "iceland.generateRoadsGDF(verbose=False)"
   ]
  },
  {
   "cell_type": "code",
   "execution_count": null,
   "metadata": {},
   "outputs": [],
   "source": [
    "# view the first 5 rows of the newly created roads GeoDataFrame\n",
    "iceland.roadsGPD.head()"
   ]
  },
  {
   "cell_type": "markdown",
   "metadata": {},
   "source": [
    "### Generate the GOSTnets graph object\n",
    "\n",
    "With the `initialReadIn()` method, we transform the roads GeoDataFrame into a graph object"
   ]
  },
  {
   "cell_type": "code",
   "execution_count": null,
   "metadata": {},
   "outputs": [],
   "source": [
    "iceland.initialReadIn()"
   ]
  },
  {
   "cell_type": "markdown",
   "metadata": {},
   "source": [
    "## Save the graph object to file\n",
    "\n",
    "We save this graph object down to file using `gn.save()`. The save function produces three outputs: a node GeoDataFrame as a CSV, an edge GeoDataFrame as a CSV, and a graph object saved as a pickle."
   ]
  },
  {
   "cell_type": "code",
   "execution_count": null,
   "metadata": {},
   "outputs": [],
   "source": [
    "gn.save?"
   ]
  },
  {
   "cell_type": "code",
   "execution_count": null,
   "metadata": {},
   "outputs": [],
   "source": [
    "gn.save(iceland.network, \"iceland_unclean\", os.path.join(pth, \"tutorial_outputs\"))"
   ]
  },
  {
   "cell_type": "markdown",
   "metadata": {},
   "source": [
    "Move on to [Step 2](Step_2-Clean_Network.ipynb) to see how we clean up this rough network."
   ]
  }
 ],
 "metadata": {
  "language_info": {
   "name": "python"
  }
 },
 "nbformat": 4,
 "nbformat_minor": 2
}
