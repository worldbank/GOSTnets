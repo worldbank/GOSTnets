{
 "cells": [
  {
   "cell_type": "markdown",
   "metadata": {},
   "source": [
    "# Step 2: Cleaning an OSM Road Network\n",
    "\n",
    "This notebook contains further post-processing, also found within the `network_clean` GOSTnets submodule.\n",
    "This function cleans the network by removing excessive nodes, and ensures all edges are bi-directional (except in the case of one-way roads).\n",
    "\n",
    "__WARNING:__ The `network_clean` function is a computationally expensive function, so it may take a while to run.\n",
    "It outputs a pickled graph object, a dataframe of the edges, and a dataframe of the nodes.\n",
    "The expectation is that this function will only be run once."
   ]
  },
  {
   "cell_type": "markdown",
   "metadata": {},
   "source": [
    "## Setup the Notebook\n",
    "\n",
    "First we need to import the necessary libraries and set the file paths."
   ]
  },
  {
   "cell_type": "markdown",
   "metadata": {},
   "source": [
    "### Import Libraries\n",
    "\n",
    "We will use the following libraries:\n",
    "- `os` to set the file paths\n",
    "- `time` to time the function\n",
    "- `networkx` to work with the graph object\n",
    "- `pickle` to load the graph object\n",
    "- `GOSTnets` to use the `network_clean` function"
   ]
  },
  {
   "cell_type": "code",
   "execution_count": null,
   "metadata": {},
   "outputs": [],
   "source": [
    "import os\n",
    "import time\n",
    "import networkx as nx\n",
    "import pickle\n",
    "\n",
    "# import the GOSTnets library\n",
    "import GOSTnets as gn"
   ]
  },
  {
   "cell_type": "markdown",
   "metadata": {},
   "source": [
    "### Set File Paths\n",
    "\n",
    "We will set the file paths to read the output from the \"Step 1\" tutorial."
   ]
  },
  {
   "cell_type": "code",
   "execution_count": null,
   "metadata": {},
   "outputs": [],
   "source": [
    "pth = \"./\"  # change this path to your working folder\n",
    "data_pth = os.path.join(pth, \"tutorial_outputs\")\n",
    "\n",
    "# read back your graph from step 1 from you saved pickle\n",
    "G = pickle.load(open(os.path.join(data_pth, \"iceland_unclean.pickle\"), \"rb\"))"
   ]
  },
  {
   "cell_type": "markdown",
   "metadata": {},
   "source": [
    "## Inspect and Clean the Network\n",
    "\n",
    "We will inspect the network and then clean it using the `network_clean` function."
   ]
  },
  {
   "cell_type": "code",
   "execution_count": null,
   "metadata": {},
   "outputs": [],
   "source": [
    "# inspect the graph\n",
    "nodes = list(G.nodes(data=True))\n",
    "edges = list(G.edges(data=True))\n",
    "print(len(nodes))\n",
    "print(nodes[0])\n",
    "print(len(edges))\n",
    "print(edges[0])"
   ]
  },
  {
   "cell_type": "code",
   "execution_count": null,
   "metadata": {},
   "outputs": [],
   "source": [
    "# you can also print general graph information with networkx\n",
    "print(G)"
   ]
  },
  {
   "cell_type": "code",
   "execution_count": null,
   "metadata": {},
   "outputs": [],
   "source": [
    "# To become familiar with the function read the doc string\n",
    "gn.clean_network?"
   ]
  },
  {
   "cell_type": "markdown",
   "metadata": {},
   "source": [
    "Now we set up some parameters for the CleanNetwork function"
   ]
  },
  {
   "cell_type": "code",
   "execution_count": null,
   "metadata": {},
   "outputs": [],
   "source": [
    "Iceland_UTMZ = \"epsg:32627\"\n",
    "\n",
    "WGS = \"epsg:4326\"  # do not adjust. OSM natively comes in ESPG 4326 (Web Mercator)"
   ]
  },
  {
   "cell_type": "markdown",
   "metadata": {},
   "source": [
    "### Run the `clean_network` Function\n",
    "\n",
    "Changing the keyword `verbose` to True will write the outputs in the specified wpath."
   ]
  },
  {
   "cell_type": "code",
   "execution_count": null,
   "metadata": {},
   "outputs": [],
   "source": [
    "print(\"start: %s\\n\" % time.ctime())\n",
    "G_clean = gn.clean_network(\n",
    "    G, UTM=Iceland_UTMZ, WGS=\"epsg:4326\", junctdist=10, verbose=False\n",
    ")\n",
    "\n",
    "# using verbose = True:\n",
    "# G_clean = gn.clean_network(G, wpath = data_pth, output_file_name = 'iceland_network', UTM = Iceland_UTMZ, WGS = {'init': 'epsg:4326'}, junctdist = 10, verbose = True)\n",
    "print(\"\\nend: %s\" % time.ctime())\n",
    "print(\"\\n--- processing complete\")"
   ]
  },
  {
   "cell_type": "code",
   "execution_count": null,
   "metadata": {},
   "outputs": [],
   "source": [
    "# let's print info on our clean version\n",
    "print(G_clean)"
   ]
  },
  {
   "cell_type": "markdown",
   "metadata": {
    "collapsed": true
   },
   "source": [
    "The `clean_network` function helps snapping points that are very close to one another. However, it does not conduct any check on whether the network is fully connected."
   ]
  },
  {
   "cell_type": "markdown",
   "metadata": {},
   "source": [
    "## Optional step: Only use the largest sub-graph\n",
    "\n",
    "Network analysis is often done on only connected graphs.\n",
    "Disconnected graphs can result in paths that cannot reach their destination.\n",
    "Also, you can evaluate how connected your network is and have the option of going back and making more edits."
   ]
  },
  {
   "cell_type": "code",
   "execution_count": null,
   "metadata": {},
   "outputs": [],
   "source": [
    "# Identify only the largest graph\n",
    "\n",
    "# compatible with NetworkX 2.4\n",
    "list_of_subgraphs = list(\n",
    "    G_clean.subgraph(c).copy() for c in nx.strongly_connected_components(G_clean)\n",
    ")\n",
    "max_graph = None\n",
    "max_edges = 0\n",
    "for i in list_of_subgraphs:\n",
    "    if i.number_of_edges() > max_edges:\n",
    "        max_edges = i.number_of_edges()\n",
    "        max_graph = i\n",
    "\n",
    "# set your graph equal to the largest sub-graph\n",
    "G_largest = max_graph"
   ]
  },
  {
   "cell_type": "code",
   "execution_count": null,
   "metadata": {},
   "outputs": [],
   "source": [
    "# print info about the largest sub-graph\n",
    "print(G_largest)"
   ]
  },
  {
   "cell_type": "markdown",
   "metadata": {},
   "source": [
    "The majority of the network was captured by the largest subgraph. That's pretty good. It means the quality of OSM data for this city is quite good.  \n",
    "\n",
    "Save this prepared graph in your output folder: "
   ]
  },
  {
   "cell_type": "code",
   "execution_count": null,
   "metadata": {},
   "outputs": [],
   "source": [
    "gn.save(G_largest, \"iceland_network_clean\", data_pth)"
   ]
  },
  {
   "cell_type": "markdown",
   "metadata": {},
   "source": [
    "How many subgraphs would you guess there are?"
   ]
  },
  {
   "cell_type": "code",
   "execution_count": null,
   "metadata": {},
   "outputs": [],
   "source": [
    "len(list_of_subgraphs)"
   ]
  },
  {
   "cell_type": "markdown",
   "metadata": {},
   "source": [
    "Move on to Step 3 to see how we can use this network for some travel time analysis!"
   ]
  },
  {
   "cell_type": "markdown",
   "metadata": {},
   "source": [
    "## Optional: Compare networks (original / clean-version / largest subgraph)"
   ]
  },
  {
   "cell_type": "markdown",
   "metadata": {},
   "source": [
    "OSMNX is one of the key libraries that GostNETS is based on. Here, we load it to access graph-plotting functions."
   ]
  },
  {
   "cell_type": "code",
   "execution_count": null,
   "metadata": {},
   "outputs": [],
   "source": [
    "# import the OSMnx library and matplotlib library for visualizations\n",
    "import osmnx as ox\n",
    "import matplotlib.pyplot as plt"
   ]
  },
  {
   "cell_type": "code",
   "execution_count": null,
   "metadata": {},
   "outputs": [],
   "source": [
    "# plotting functions only work if the graphs have a name and a crs attribute\n",
    "G.graph[\"crs\"] = \"epsg:32646\"\n",
    "G.graph[\"name\"] = \"Iceland\"\n",
    "\n",
    "# original graph\n",
    "fig, ax = plt.subplots(figsize=(10, 14))\n",
    "ax.set_facecolor(\"k\")\n",
    "ax.set_title(\"Iceland - Original Network\")\n",
    "fig, ax = ox.plot_graph(G, ax=ax, edge_linewidth=1, node_size=7)\n",
    "plt.show()"
   ]
  },
  {
   "cell_type": "code",
   "execution_count": null,
   "metadata": {},
   "outputs": [],
   "source": [
    "G_clean.graph[\"crs\"] = \"epsg:32646\"\n",
    "G_clean.graph[\"name\"] = \"Iceland\"\n",
    "\n",
    "# cleaned graph\n",
    "fig, ax = plt.subplots(figsize=(10, 14))\n",
    "ax.set_facecolor(\"k\")\n",
    "ax.set_title(\"Iceland - Cleaned Network\")\n",
    "fig, ax = ox.plot_graph(G_clean, ax=ax, edge_linewidth=1, node_size=7)\n",
    "plt.show()"
   ]
  },
  {
   "cell_type": "code",
   "execution_count": null,
   "metadata": {},
   "outputs": [],
   "source": [
    "G_largest.graph[\"crs\"] = \"epsg:32646\"\n",
    "G_largest.graph[\"name\"] = \"Iceland\"\n",
    "\n",
    "# largest subgraph\n",
    "fig, ax = plt.subplots(figsize=(10, 14))\n",
    "ax.set_facecolor(\"k\")\n",
    "ax.set_title(\"Iceland - The Largest Subgraph\")\n",
    "fig, ax = ox.plot_graph(G_largest, ax=ax, edge_linewidth=1, node_size=7)\n",
    "plt.show()"
   ]
  }
 ],
 "metadata": {
  "language_info": {
   "name": "python"
  }
 },
 "nbformat": 4,
 "nbformat_minor": 2
}
