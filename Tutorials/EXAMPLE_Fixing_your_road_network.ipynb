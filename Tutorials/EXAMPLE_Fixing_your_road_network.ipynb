{
 "cells": [
  {
   "cell_type": "markdown",
   "metadata": {},
   "source": [
    "# Fixing your road network graph\n",
    "\n",
    "The following notebook showcases some common practices to inspect the quality of your road-network graph, and possibilities to improve it."
   ]
  },
  {
   "cell_type": "code",
   "execution_count": null,
   "metadata": {},
   "outputs": [],
   "source": [
    "import os\n",
    "import networkx as nx\n",
    "import osmnx as ox\n",
    "import pickle as pkl"
   ]
  },
  {
   "cell_type": "code",
   "execution_count": null,
   "metadata": {},
   "outputs": [],
   "source": [
    "# import the GOSTnets library\n",
    "import GOSTnets as gn"
   ]
  },
  {
   "cell_type": "code",
   "execution_count": null,
   "metadata": {},
   "outputs": [],
   "source": [
    "pth = \"./\"  # change this path to your working folder\n",
    "data_pth = os.path.join(pth, \"tutorial_outputs\")\n",
    "\n",
    "# read back your graph from step 2 from you saved pickle\n",
    "G = pkl.load(open(os.path.join(data_pth, \"iceland_network_clean.pickle\"), \"rb\"))"
   ]
  },
  {
   "cell_type": "code",
   "execution_count": null,
   "metadata": {},
   "outputs": [],
   "source": [
    "# note the use of sorted to sort by number of edges\n",
    "list_of_subgraphs = [\n",
    "    G.subgraph(c).copy()\n",
    "    for c in sorted(nx.strongly_connected_components(G), key=len, reverse=True)\n",
    "]"
   ]
  },
  {
   "cell_type": "code",
   "execution_count": null,
   "metadata": {},
   "outputs": [],
   "source": [
    "G_largest = list_of_subgraphs[0]"
   ]
  },
  {
   "cell_type": "code",
   "execution_count": null,
   "metadata": {},
   "outputs": [],
   "source": [
    "print(G_largest)"
   ]
  },
  {
   "cell_type": "code",
   "execution_count": null,
   "metadata": {},
   "outputs": [],
   "source": [
    "# plotting functions only work if the graphs have a name and a crs attribute\n",
    "G_largest.graph[\"crs\"] = \"epsg:32646\"\n",
    "G_largest.graph[\"name\"] = \"Iceland\"\n",
    "\n",
    "# largest connected subgraph\n",
    "ox.plot_graph(G_largest, figsize=(10, 14), edge_linewidth=1, node_size=7)"
   ]
  },
  {
   "cell_type": "code",
   "execution_count": null,
   "metadata": {},
   "outputs": [],
   "source": [
    "edges_largest = gn.edge_gdf_from_graph(G_largest)\n",
    "edges_largest.to_csv(os.path.join(data_pth, \"edges_largest.csv\"))"
   ]
  },
  {
   "cell_type": "markdown",
   "metadata": {},
   "source": [
    "The next step would be to inspect changes in QGIS, add new paths to improve connectivity, and re-run the graph import notebooks to produce a better connected graph."
   ]
  }
 ],
 "metadata": {
  "language_info": {
   "name": "python"
  }
 },
 "nbformat": 4,
 "nbformat_minor": 4
}
