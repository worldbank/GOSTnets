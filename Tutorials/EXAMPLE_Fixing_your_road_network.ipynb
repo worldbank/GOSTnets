{
 "cells": [
  {
   "cell_type": "markdown",
   "metadata": {},
   "source": [
    "# Fixing your road network graph\n",
    "\n",
    "The following notebook showcases some common practices to inspect the quality of your road-network graph, and possibilities to improve it."
   ]
  },
  {
   "cell_type": "code",
   "execution_count": null,
   "metadata": {},
   "outputs": [],
   "source": [
    "import os\n",
    "import sys\n",
    "import networkx as nx\n",
    "import osmnx as ox"
   ]
  },
  {
   "cell_type": "code",
   "execution_count": null,
   "metadata": {},
   "outputs": [],
   "source": [
    "# add to your system path the location of the LoadOSM.py and GOSTnet.py scripts\n",
    "sys.path.append(\"../\")\n",
    "import GOSTnets as gn"
   ]
  },
  {
   "cell_type": "code",
   "execution_count": null,
   "metadata": {},
   "outputs": [],
   "source": [
    "pth = \"./\"  # change this path to your working folder\n",
    "data_pth = os.path.join(pth, \"tutorial_outputs\")\n",
    "\n",
    "# read back your graph from step 1 from you saved pickle\n",
    "G = nx.read_gpickle(os.path.join(data_pth, \"iceland_network_clean.pickle\"))"
   ]
  },
  {
   "cell_type": "code",
   "execution_count": null,
   "metadata": {},
   "outputs": [],
   "source": [
    "# note the use of sorted to sort by number of edges\n",
    "list_of_subgraphs = [\n",
    "    G.subgraph(c).copy()\n",
    "    for c in sorted(nx.strongly_connected_components(G), key=len, reverse=True)\n",
    "]"
   ]
  },
  {
   "cell_type": "code",
   "execution_count": null,
   "metadata": {},
   "outputs": [],
   "source": [
    "G_largest = list_of_subgraphs[0]\n",
    "G_second_largest = list_of_subgraphs[1]"
   ]
  },
  {
   "cell_type": "code",
   "execution_count": null,
   "metadata": {},
   "outputs": [],
   "source": [
    "print(nx.info(G_largest))"
   ]
  },
  {
   "cell_type": "code",
   "execution_count": null,
   "metadata": {},
   "outputs": [],
   "source": [
    "print(nx.info(G_second_largest))"
   ]
  },
  {
   "cell_type": "code",
   "execution_count": null,
   "metadata": {},
   "outputs": [],
   "source": [
    "print(nx.info(list_of_subgraphs[2]))"
   ]
  },
  {
   "cell_type": "code",
   "execution_count": null,
   "metadata": {},
   "outputs": [],
   "source": [
    "# plotting functions only work if the graphs have a name and a crs attribute\n",
    "G_largest.graph[\"crs\"] = \"epsg:32646\"\n",
    "G_largest.graph[\"name\"] = \"Iceland\"\n",
    "\n",
    "# largest connected subgraph\n",
    "ox.plot_graph(G_largest, fig_width=10, edge_linewidth=1, node_size=7)"
   ]
  },
  {
   "cell_type": "code",
   "execution_count": null,
   "metadata": {},
   "outputs": [],
   "source": [
    "G_second_largest.graph[\"crs\"] = \"epsg:32646\"\n",
    "G_second_largest.graph[\"name\"] = \"Iceland\"\n",
    "\n",
    "# second largest connected subgraph\n",
    "ox.plot_graph(G_second_largest, fig_width=10, edge_linewidth=1, node_size=7)"
   ]
  },
  {
   "cell_type": "code",
   "execution_count": null,
   "metadata": {},
   "outputs": [],
   "source": [
    "edges_largest = gn.edge_gdf_from_graph(G_largest)\n",
    "edges_largest.to_csv(os.path.join(data_pth, \"edges_largest.csv\"))"
   ]
  },
  {
   "cell_type": "code",
   "execution_count": null,
   "metadata": {},
   "outputs": [],
   "source": [
    "edges_second = gn.edge_gdf_from_graph(G_second_largest)\n",
    "edges_second.to_csv(os.path.join(data_pth, \"edges_second.csv\"))"
   ]
  },
  {
   "cell_type": "markdown",
   "metadata": {},
   "source": [
    "The next step would be to inspect changes in QGIS, add new paths to improve connectivity, and re-run the graph import notebooks to produce a better connected graph."
   ]
  }
 ],
 "metadata": {
  "language_info": {
   "name": "python"
  }
 },
 "nbformat": 4,
 "nbformat_minor": 4
}
