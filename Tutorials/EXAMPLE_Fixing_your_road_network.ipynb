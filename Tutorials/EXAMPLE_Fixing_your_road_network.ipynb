{
 "cells": [
  {
   "cell_type": "markdown",
   "metadata": {},
   "source": [
    "# Fixing your road network graph\n",
    "\n",
    "*Note: This notebook includes processes covered in the [Step 2](Step_2-Clean_Network.ipynb) Tutorial Notebook.*\n",
    "\n",
    "The following notebook showcases some common practices to inspect the quality of your road-network graph, and possibilities to improve it."
   ]
  },
  {
   "cell_type": "markdown",
   "metadata": {},
   "source": [
    "## Import Libraries and Load Data\n",
    "\n",
    "We will start by importing the necessary libraries and loading the data."
   ]
  },
  {
   "cell_type": "markdown",
   "metadata": {},
   "source": [
    "### Import Libraries\n",
    "\n",
    "We will use the following libraries:\n",
    "\n",
    "- `os` to set the working directory and handle file paths\n",
    "- `networkx` to handle the graph data structure\n",
    "- `osmnx` to plot the network graph\n",
    "- `pickle` to load the network data\n",
    "- `matplotlib` to help plot and format the graph\n",
    "- `GOSTnets` to access custom GOSTnets functionality"
   ]
  },
  {
   "cell_type": "code",
   "execution_count": null,
   "metadata": {},
   "outputs": [],
   "source": [
    "import os\n",
    "import networkx as nx\n",
    "import osmnx as ox\n",
    "import pickle as pkl\n",
    "import matplotlib.pyplot as plt\n",
    "\n",
    "# import the GOSTnets library\n",
    "import GOSTnets as gn"
   ]
  },
  {
   "cell_type": "markdown",
   "metadata": {},
   "source": [
    "### Load Data\n",
    "\n",
    "Define the path to the tutorial data and then load the network."
   ]
  },
  {
   "cell_type": "code",
   "execution_count": null,
   "metadata": {},
   "outputs": [],
   "source": [
    "pth = \"./\"  # change this path to your working folder\n",
    "data_pth = os.path.join(pth, \"tutorial_outputs\")\n",
    "\n",
    "# read back your graph from step 2 from you saved pickle\n",
    "G = pkl.load(open(os.path.join(data_pth, \"iceland_network_clean.pickle\"), \"rb\"))"
   ]
  },
  {
   "cell_type": "markdown",
   "metadata": {},
   "source": [
    "## Graph processing\n",
    "\n",
    "In this notebook the first processing step we take is to load the largest subgraph."
   ]
  },
  {
   "cell_type": "markdown",
   "metadata": {},
   "source": [
    "### Identify the largest subgraph\n",
    "\n",
    "We will start by identifying the largest subgraph in the network."
   ]
  },
  {
   "cell_type": "code",
   "execution_count": null,
   "metadata": {},
   "outputs": [],
   "source": [
    "# note the use of sorted to sort by number of edges\n",
    "list_of_subgraphs = [\n",
    "    G.subgraph(c).copy()\n",
    "    for c in sorted(nx.strongly_connected_components(G), key=len, reverse=True)\n",
    "]"
   ]
  },
  {
   "cell_type": "code",
   "execution_count": null,
   "metadata": {},
   "outputs": [],
   "source": [
    "G_largest = list_of_subgraphs[0]"
   ]
  },
  {
   "cell_type": "code",
   "execution_count": null,
   "metadata": {},
   "outputs": [],
   "source": [
    "print(G_largest)"
   ]
  },
  {
   "cell_type": "markdown",
   "metadata": {},
   "source": [
    "### Plot the largest subgraph\n",
    "\n",
    "We will then plot the largest subgraph to visualize the network."
   ]
  },
  {
   "cell_type": "code",
   "execution_count": null,
   "metadata": {},
   "outputs": [],
   "source": [
    "# plotting functions only work if the graphs have a name and a crs attribute\n",
    "G_largest.graph[\"crs\"] = \"epsg:32646\"\n",
    "G_largest.graph[\"name\"] = \"Iceland\"\n",
    "\n",
    "fig, ax = plt.subplots(figsize=(10, 14))\n",
    "ax.set_facecolor(\"k\")\n",
    "ax.set_title(\"Iceland - The Largest Network\")\n",
    "# largest connected subgraph\n",
    "fig, ax = ox.plot_graph(G_largest, ax=ax, edge_linewidth=1, node_size=7)\n",
    "plt.show()"
   ]
  },
  {
   "cell_type": "code",
   "execution_count": null,
   "metadata": {},
   "outputs": [],
   "source": [
    "edges_largest = gn.edge_gdf_from_graph(G_largest)\n",
    "edges_largest.to_csv(os.path.join(data_pth, \"edges_largest.csv\"))"
   ]
  },
  {
   "cell_type": "markdown",
   "metadata": {},
   "source": [
    "The next step would be to inspect changes in QGIS, add new paths to improve connectivity, and re-run the graph import notebooks to produce a better connected graph."
   ]
  }
 ],
 "metadata": {
  "language_info": {
   "name": "python"
  }
 },
 "nbformat": 4,
 "nbformat_minor": 4
}
