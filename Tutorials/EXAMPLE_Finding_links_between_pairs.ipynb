{
 "cells": [
  {
   "cell_type": "markdown",
   "metadata": {},
   "source": [
    "# Calculate connections\n",
    "\n",
    "For most network analysis we do not consider actual geographic connections - this notebook focuses on how to calculate those direct connections between points and collect the geospatial information"
   ]
  },
  {
   "cell_type": "markdown",
   "metadata": {},
   "source": [
    "## Import Libraries and Define Input Data\n",
    "\n",
    "First we'll import the necessary libraries and define the input data."
   ]
  },
  {
   "cell_type": "markdown",
   "metadata": {},
   "source": [
    "### Libraries\n",
    "\n",
    "We'll use the following libraries:\n",
    "\n",
    "- `os` for setting the working directory\n",
    "- `pickle` to load the data\n",
    "- `networkx` to calculate travel times through the graph\n",
    "- `geopandas` to work with the geospatial data\n",
    "- `pandas` to work with the data\n",
    "- `shapely.geometry` to work with the geometry of the data\n",
    "- `GOSTnets` to apply custom functions to the network"
   ]
  },
  {
   "cell_type": "code",
   "execution_count": null,
   "metadata": {},
   "outputs": [],
   "source": [
    "import os\n",
    "import pickle as pkl\n",
    "import networkx as nx\n",
    "import geopandas as gpd\n",
    "import pandas as pd\n",
    "\n",
    "from shapely.geometry import MultiLineString\n",
    "\n",
    "# import the GOSTnet library\n",
    "import GOSTnets as gn"
   ]
  },
  {
   "cell_type": "markdown",
   "metadata": {},
   "source": [
    "### Load Input Data\n",
    "\n",
    "We define the path to the Iceland network tutorial data, and load the network graph information.\n",
    "Then we load the origins and destination data, so that we're ready to calculate travel times between the points."
   ]
  },
  {
   "cell_type": "code",
   "execution_count": null,
   "metadata": {},
   "outputs": [],
   "source": [
    "# Define input data\n",
    "pth = \"./\"\n",
    "# Read in cleaned pickle from earlier analysis and convert to time\n",
    "G = pkl.load(\n",
    "    open(os.path.join(pth, \"tutorial_outputs\", r\"iceland_network_clean.pickle\"), \"rb\")\n",
    ")\n",
    "G_time = gn.convert_network_to_time(\n",
    "    G, distance_tag=\"length\", road_col=\"infra_type\", factor=1000\n",
    ")\n",
    "# Define origins and destinations files\n",
    "rek_grid_file = os.path.join(pth, \"tutorial_data\", \"rek_grid.shp\")\n",
    "rek_pop_grid_file = rek_grid_file.replace(\".shp\", \"_pop.shp\")\n",
    "churches_file = os.path.join(pth, \"tutorial_data\", \"churches.shp\")\n",
    "# Read in origins and destinations files\n",
    "rek_grid = gpd.read_file(rek_pop_grid_file)\n",
    "in_churches = gpd.read_file(churches_file)\n",
    "in_churches = in_churches.to_crs(rek_grid.crs)"
   ]
  },
  {
   "cell_type": "markdown",
   "metadata": {},
   "source": [
    "## Calculate Shortest Paths Between Loaded Origins and Destinations\n",
    "\n",
    "We'll calculate the shortest paths between the loaded origins and destinations.\n",
    "To do this we first need to snap the origins and destinations to the network, only then can we calculate the shortest paths between them."
   ]
  },
  {
   "cell_type": "code",
   "execution_count": null,
   "metadata": {},
   "outputs": [],
   "source": [
    "# calculate the origins and destinations by snapping to the road network\n",
    "origins_df = gn.pandana_snap_c(\n",
    "    G_time,\n",
    "    rek_grid,\n",
    "    source_crs=\"epsg:4326\",\n",
    "    target_crs=\"epsg:4326\",\n",
    "    add_dist_to_node_col=True,\n",
    ")\n",
    "origins = list(set(origins_df[\"NN\"]))\n",
    "destinations_df = gn.pandana_snap_c(\n",
    "    G_time,\n",
    "    in_churches,\n",
    "    source_crs=\"epsg:4326\",\n",
    "    target_crs=\"epsg:4326\",\n",
    "    add_dist_to_node_col=True,\n",
    ")\n",
    "destinations = list(set(destinations_df[\"NN\"]))"
   ]
  },
  {
   "cell_type": "code",
   "execution_count": null,
   "metadata": {},
   "outputs": [],
   "source": [
    "nodes_gdf = gn.node_gdf_from_graph(G_time)\n",
    "edges_gdf = gn.edge_gdf_from_graph(G_time)"
   ]
  },
  {
   "cell_type": "code",
   "execution_count": null,
   "metadata": {},
   "outputs": [],
   "source": [
    "obj_nodes = nx.shortest_path(\n",
    "    G_time, source=origins[0], target=destinations[0], weight=\"time\"\n",
    ")\n",
    "print(origins[0])\n",
    "print(destinations[0])\n",
    "obj_nodes  # this is a list of the nodes that connected make the shortest path from the origin to the destination"
   ]
  },
  {
   "cell_type": "markdown",
   "metadata": {},
   "source": [
    "## Calculate line strings connecting all origins to all destinations\n",
    "\n",
    "We'll calculate the line strings connecting all origins to all destinations.\n",
    "For the sake of the example, we'll only calculate the line strings between the first 10 origins and the first 10 destinations."
   ]
  },
  {
   "cell_type": "code",
   "execution_count": null,
   "metadata": {},
   "outputs": [],
   "source": [
    "# for the sake of the example we truncate the number of origins and destinations\n",
    "# to make the computation faster. We will only use the first 10 of each\n",
    "origins = origins[:10]\n",
    "destinations = destinations[:10]"
   ]
  },
  {
   "cell_type": "markdown",
   "metadata": {},
   "source": [
    "Practically we perform this calculation by looping through all origins and destinations and calculating the line string between them."
   ]
  },
  {
   "cell_type": "code",
   "execution_count": null,
   "metadata": {},
   "outputs": [],
   "source": [
    "# for the sake of the example we truncate the number of origins and destinations\n",
    "# to make the computation faster. We will only use the first 10 of each\n",
    "origins = origins[:10]\n",
    "destinations = destinations[:10]"
   ]
  },
  {
   "cell_type": "code",
   "execution_count": null,
   "metadata": {},
   "outputs": [],
   "source": [
    "all_res = []\n",
    "all_connections = []\n",
    "oIdx = 0\n",
    "for org in origins:\n",
    "    oIdx = oIdx + 1\n",
    "    print(f\"{oIdx} of {len(origins)}\")\n",
    "    for dest in destinations:\n",
    "        obj_nodes = nx.shortest_path(G_time, source=org, target=dest, weight=\"time\")\n",
    "        all_edges = []\n",
    "        for idx in range(0, len(obj_nodes) - 1):\n",
    "            start_node = obj_nodes[idx]\n",
    "            end_node = obj_nodes[idx + 1]\n",
    "            cur_edge = edges_gdf.loc[\n",
    "                (edges_gdf[\"stnode\"] == start_node)\n",
    "                & (edges_gdf[\"endnode\"] == end_node),\n",
    "                \"geometry\",\n",
    "            ].iloc[0]\n",
    "            all_edges.append(cur_edge)\n",
    "            all_connections.append([start_node, end_node, cur_edge])\n",
    "        all_res.append([org, dest, MultiLineString(all_edges)])"
   ]
  },
  {
   "cell_type": "markdown",
   "metadata": {},
   "source": [
    "### Write the data to a file\n",
    "\n",
    "Finally, we'll write the data to a file.\n",
    "First we write all connection data to a CSV file."
   ]
  },
  {
   "cell_type": "code",
   "execution_count": null,
   "metadata": {},
   "outputs": [],
   "source": [
    "# Write all connections to file\n",
    "all_results = pd.DataFrame(all_res, columns=[\"O\", \"D\", \"geometry\"])\n",
    "all_results.to_csv(os.path.join(pth, \"tutorial_outputs\", \"all_OD_links.csv\"))"
   ]
  },
  {
   "cell_type": "markdown",
   "metadata": {},
   "source": [
    "Then we write the connections information out to a CSV file."
   ]
  },
  {
   "cell_type": "code",
   "execution_count": null,
   "metadata": {},
   "outputs": [],
   "source": [
    "# Tabulate usage of individual links and write to file\n",
    "all_conn = pd.DataFrame(all_connections, columns=[\"start\", \"node\", \"geometry\"])\n",
    "all_connections_count = pd.DataFrame(all_conn.groupby([\"start\", \"node\"]).count())\n",
    "all_connections_count.reset_index(inplace=True)\n",
    "all_connections_first = pd.DataFrame(all_conn.groupby([\"start\", \"node\"]).first())\n",
    "all_connections_first.reset_index(inplace=True)\n",
    "all_connections_first[\"count\"] = all_connections_count[\"geometry\"]"
   ]
  },
  {
   "cell_type": "code",
   "execution_count": null,
   "metadata": {},
   "outputs": [],
   "source": [
    "all_connections_first.to_csv(\n",
    "    os.path.join(pth, \"tutorial_outputs\", \"OD_links_usage.csv\")\n",
    ")"
   ]
  }
 ],
 "metadata": {
  "language_info": {
   "name": "python"
  }
 },
 "nbformat": 4,
 "nbformat_minor": 2
}
