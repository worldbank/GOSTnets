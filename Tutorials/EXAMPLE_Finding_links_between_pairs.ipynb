{
 "cells": [
  {
   "cell_type": "markdown",
   "metadata": {},
   "source": [
    "# Calculate connections\n",
    "\n",
    "For most network analysis we do not consider actual geographic connections - this notebook focuses on how to calculate those direct connections between points and collect the geospatial information"
   ]
  },
  {
   "cell_type": "code",
   "execution_count": null,
   "metadata": {},
   "outputs": [],
   "source": [
    "import os\n",
    "import sys\n",
    "\n",
    "import networkx as nx\n",
    "import geopandas as gpd\n",
    "import pandas as pd\n",
    "\n",
    "from shapely.geometry import MultiLineString"
   ]
  },
  {
   "cell_type": "code",
   "execution_count": null,
   "metadata": {},
   "outputs": [],
   "source": [
    "# add to your system path the location of the LoadOSM.py and GOSTnet.py scripts\n",
    "sys.path.append(\"../\")\n",
    "import GOSTnets as gn"
   ]
  },
  {
   "cell_type": "code",
   "execution_count": null,
   "metadata": {},
   "outputs": [],
   "source": [
    "# Define input data\n",
    "pth = \"./\"\n",
    "# Read in cleaned pickle from earlier analysis and convert to time\n",
    "G = nx.read_gpickle(\n",
    "    os.path.join(pth, \"tutorial_outputs\", r\"iceland_network_clean.pickle\")\n",
    ")\n",
    "G_time = gn.convert_network_to_time(\n",
    "    G, distance_tag=\"length\", road_col=\"infra_type\", factor=1000\n",
    ")\n",
    "# Define origins and destinations files\n",
    "rek_grid_file = os.path.join(pth, \"tutorial_data\", \"rek_grid.shp\")\n",
    "rek_pop_grid_file = rek_grid_file.replace(\".shp\", \"_pop.shp\")\n",
    "churches_file = os.path.join(pth, \"tutorial_data\", \"churches.shp\")\n",
    "# Read in origins and destinations files\n",
    "rek_grid = gpd.read_file(rek_pop_grid_file)\n",
    "in_churches = gpd.read_file(churches_file)\n",
    "in_churches = in_churches.to_crs(rek_grid.crs)"
   ]
  },
  {
   "cell_type": "code",
   "execution_count": null,
   "metadata": {},
   "outputs": [],
   "source": [
    "# calculate the origins and destinations by snapping to the road network\n",
    "origins_df = gn.pandana_snap_c(\n",
    "    G_time,\n",
    "    rek_grid,\n",
    "    source_crs=\"epsg:4326\",\n",
    "    target_crs=\"epsg:4326\",\n",
    "    add_dist_to_node_col=True,\n",
    ")\n",
    "origins = list(set(origins_df[\"NN\"]))\n",
    "destinations_df = gn.pandana_snap_c(\n",
    "    G_time,\n",
    "    in_churches,\n",
    "    source_crs=\"epsg:4326\",\n",
    "    target_crs=\"epsg:4326\",\n",
    "    add_dist_to_node_col=True,\n",
    ")\n",
    "destinations = list(set(destinations_df[\"NN\"]))"
   ]
  },
  {
   "cell_type": "code",
   "execution_count": null,
   "metadata": {},
   "outputs": [],
   "source": [
    "nodes_gdf = gn.node_gdf_from_graph(G_time)\n",
    "edges_gdf = gn.edge_gdf_from_graph(G_time)"
   ]
  },
  {
   "cell_type": "code",
   "execution_count": null,
   "metadata": {},
   "outputs": [],
   "source": [
    "obj_nodes = nx.shortest_path(\n",
    "    G_time, source=origins[0], target=destinations[0], weight=\"time\"\n",
    ")\n",
    "print(origins[0])\n",
    "print(destinations[0])\n",
    "obj_nodes  # this is a list of the nodes that connected make the shortest path from the origin to the destination"
   ]
  },
  {
   "cell_type": "markdown",
   "metadata": {},
   "source": [
    "## Calculate line strings connecting all origins to all destinations"
   ]
  },
  {
   "cell_type": "code",
   "execution_count": null,
   "metadata": {},
   "outputs": [],
   "source": [
    "all_res = []\n",
    "all_connections = []\n",
    "oIdx = 0\n",
    "for org in origins:\n",
    "    oIdx = oIdx + 1\n",
    "    print(f\"{oIdx} of {len(origins)}\")\n",
    "    for dest in destinations:\n",
    "        obj_nodes = nx.shortest_path(G_time, source=org, target=dest, weight=\"time\")\n",
    "        all_edges = []\n",
    "        for idx in range(0, len(obj_nodes) - 1):\n",
    "            start_node = obj_nodes[idx]\n",
    "            end_node = obj_nodes[idx + 1]\n",
    "            cur_edge = edges_gdf.loc[\n",
    "                (edges_gdf[\"stnode\"] == start_node)\n",
    "                & (edges_gdf[\"endnode\"] == end_node),\n",
    "                \"geometry\",\n",
    "            ].iloc[0]\n",
    "            all_edges.append(cur_edge)\n",
    "            all_connections.append([start_node, end_node, cur_edge])\n",
    "        all_res.append([org, dest, MultiLineString(all_edges)])"
   ]
  },
  {
   "cell_type": "code",
   "execution_count": null,
   "metadata": {},
   "outputs": [],
   "source": [
    "# Write all connections to file\n",
    "all_results = pd.DataFrame(all_res, columns=[\"O\", \"D\", \"geometry\"])\n",
    "all_results.to_csv(os.path.join(pth, \"tutorial_data\", \"all_OD_links.csv\"))"
   ]
  },
  {
   "cell_type": "code",
   "execution_count": null,
   "metadata": {},
   "outputs": [],
   "source": [
    "# Tabulate usage of individual links and write to file\n",
    "all_conn = pd.DataFrame(all_connections, columns=[\"start\", \"node\", \"geometry\"])\n",
    "all_connections_count = pd.DataFrame(all_conn.groupby([\"start\", \"node\"]).count())\n",
    "all_connections_count.reset_index(inplace=True)\n",
    "all_connections_first = pd.DataFrame(all_conn.groupby([\"start\", \"node\"]).first())\n",
    "all_connections_first.reset_index(inplace=True)\n",
    "all_connections_first[\"count\"] = all_connections_count[\"geometry\"]"
   ]
  },
  {
   "cell_type": "code",
   "execution_count": null,
   "metadata": {},
   "outputs": [],
   "source": [
    "all_connections_first.to_csv(os.path.join(pth, \"tutorial_data\", \"OD_links_usage.csv\"))"
   ]
  },
  {
   "cell_type": "code",
   "execution_count": null,
   "metadata": {},
   "outputs": [],
   "source": []
  }
 ],
 "metadata": {
  "language_info": {
   "name": "python"
  }
 },
 "nbformat": 4,
 "nbformat_minor": 2
}
