{
 "cells": [
  {
   "cell_type": "markdown",
   "metadata": {},
   "source": [
    "# Step 1: Extract from OSM\n",
    "The purpose of this script is to show how to go from a .osm.pbf file to a network format that GOSTnets will accept. \n",
    "Additional modifications in this script include: clipping the roads to an input polygon (here, rek2.shp), and filtering the roads DataFrame by a list of accepted road types, as tagged in OSM (see accepted_road_types list). "
   ]
  },
  {
   "cell_type": "code",
   "execution_count": 1,
   "metadata": {},
   "outputs": [],
   "source": [
    "import geopandas as gpd\n",
    "import pandas as pd\n",
    "import os, sys"
   ]
  },
  {
   "cell_type": "code",
   "execution_count": 2,
   "metadata": {},
   "outputs": [],
   "source": [
    "# This is a Jupyter Notebook extension which reloads all of the modules whenever you run the code\n",
    "# This is optional but good if you are modifying and testing source code\n",
    "%load_ext autoreload\n",
    "%autoreload 2"
   ]
  },
  {
   "cell_type": "markdown",
   "metadata": {},
   "source": [
    "Add to your system path the location of the LoadOSM.py and GOSTnet.py scripts.  \n",
    "In this case, we use relative paths (\"..\") to locate the parent directory (one level up). One dot (\".\") means current directory."
   ]
  },
  {
   "cell_type": "code",
   "execution_count": 3,
   "metadata": {},
   "outputs": [],
   "source": [
    "sys.path.append(\"../\")\n",
    "import GOSTnets as gn"
   ]
  },
  {
   "cell_type": "markdown",
   "metadata": {},
   "source": [
    "The load_osm module is an optional GOSTNets submodule that is used to import OSM data. Make sure gdal, geopy, and boltons are installed first as it has additional dependencies (look in GOSTnets repo main README file if you need additional help with this). Then import the submodule."
   ]
  },
  {
   "cell_type": "code",
   "execution_count": 4,
   "metadata": {},
   "outputs": [],
   "source": [
    "from GOSTnets.load_osm import *"
   ]
  },
  {
   "cell_type": "markdown",
   "metadata": {},
   "source": [
    "Define filepaths."
   ]
  },
  {
   "cell_type": "code",
   "execution_count": 11,
   "metadata": {},
   "outputs": [],
   "source": [
    "pth = \"/home/mmastro/World_Bank/GOSTnets/Tutorials/\" # change this path to your working folder\n",
    "fil = r'iceland-latest.osm.pbf' # download this file from geofabrik: http://download.geofabrik.de/europe/iceland.html. \n",
    "\n",
    "# be sure to place the .osm.pbf file in the 'tutorial data' folder. \n",
    "\n",
    "f = os.path.join(pth, 'tutorial_data', fil)"
   ]
  },
  {
   "cell_type": "code",
   "execution_count": 12,
   "metadata": {},
   "outputs": [
    {
     "data": {
      "text/plain": [
       "'/home/mmastro/World_Bank/GOSTnets/Tutorials/tutorial_data/iceland-latest.osm.pbf'"
      ]
     },
     "execution_count": 12,
     "metadata": {},
     "output_type": "execute_result"
    }
   ],
   "source": [
    "f"
   ]
  },
  {
   "cell_type": "markdown",
   "metadata": {},
   "source": [
    "GOSTNets creates a special 'OSM_to_network' object. This object gets initialized with both a copy of the OSM file itself and the roads extracted from the OSM file in a GeoPandas DataFrame. This DataFrame is a property of the object called 'roads_raw' and is the starting point for our network."
   ]
  },
  {
   "cell_type": "code",
   "execution_count": 65,
   "metadata": {},
   "outputs": [
    {
     "data": {
      "text/plain": [
       "(                     y          x  street_count highway  \\\n",
       " osmid                                                     \n",
       " 13472322     64.105942 -21.777072             3     NaN   \n",
       " 13472516     64.123571 -21.784768             3     NaN   \n",
       " 13472744     64.111916 -21.780669             4     NaN   \n",
       " 13489663     64.123781 -21.832491             3     NaN   \n",
       " 13490026     64.124988 -21.849055             3     NaN   \n",
       " ...                ...        ...           ...     ...   \n",
       " 11157711659  64.137625 -21.947643             3     NaN   \n",
       " 11170348739  64.144906 -21.774797             3     NaN   \n",
       " 11170348747  64.144730 -21.774704             3     NaN   \n",
       " 11179618241  64.132876 -21.845526             3     NaN   \n",
       " 11180943705  64.147036 -21.890253             3     NaN   \n",
       " \n",
       "                                geometry  \n",
       " osmid                                    \n",
       " 13472322     POINT (-21.77707 64.10594)  \n",
       " 13472516     POINT (-21.78477 64.12357)  \n",
       " 13472744     POINT (-21.78067 64.11192)  \n",
       " 13489663     POINT (-21.83249 64.12378)  \n",
       " 13490026     POINT (-21.84906 64.12499)  \n",
       " ...                                 ...  \n",
       " 11157711659  POINT (-21.94764 64.13762)  \n",
       " 11170348739  POINT (-21.77480 64.14491)  \n",
       " 11170348747  POINT (-21.77470 64.14473)  \n",
       " 11179618241  POINT (-21.84553 64.13288)  \n",
       " 11180943705  POINT (-21.89025 64.14704)  \n",
       " \n",
       " [5279 rows x 5 columns],\n",
       "                                                    osmid  oneway   lanes  ref  \\\n",
       " u           v          key                                                      \n",
       " 13472322    13472744   0          [117632085, 516197559]   False  [2, 3]    1   \n",
       "             56585691   0          [516197560, 117632086]    True  [2, 1]    1   \n",
       " 13472516    253231170  0                        23387782    True       1    1   \n",
       "             34187360   0    [23771523, 5068309, 5068326]    True       1  NaN   \n",
       " 13472744    8019223252 0                       860446660    True       2    1   \n",
       " ...                                                  ...     ...     ...  ...   \n",
       " 11179618241 6577552542 0                       627008379   False       2  NaN   \n",
       "             8085633751 0          [867466062, 867466063]   False     NaN  NaN   \n",
       " 11180943705 9854237794 0         [1074327294, 794915310]   False       2  NaN   \n",
       "             9176630059 0                       794915310   False       2  NaN   \n",
       "                        1         [1201180030, 993288103]   False     NaN  NaN   \n",
       " \n",
       "                                                     name  \\\n",
       " u           v          key                                 \n",
       " 13472322    13472744   0                 Suðurlandsvegur   \n",
       "             56585691   0                 Suðurlandsvegur   \n",
       " 13472516    253231170  0                Vesturlandsvegur   \n",
       "             34187360   0                             NaN   \n",
       " 13472744    8019223252 0                 Suðurlandsvegur   \n",
       " ...                                                  ...   \n",
       " 11179618241 6577552542 0                      Kuggavogur   \n",
       "             8085633751 0    [Drómundarvogur, Arkarvogur]   \n",
       " 11180943705 9854237794 0                  Hallgerðargata   \n",
       "             9176630059 0                  Hallgerðargata   \n",
       "                        1                  Hallgerðargata   \n",
       " \n",
       "                                                  highway  maxspeed reversed  \\\n",
       " u           v          key                                                    \n",
       " 13472322    13472744   0                           trunk        80    False   \n",
       "             56585691   0                           trunk        80    False   \n",
       " 13472516    253231170  0                      trunk_link        50    False   \n",
       "             34187360   0                      trunk_link  [50, 80]    False   \n",
       " 13472744    8019223252 0                           trunk        80    False   \n",
       " ...                                                  ...       ...      ...   \n",
       " 11179618241 6577552542 0                     residential        30     True   \n",
       "             8085633751 0    [residential, living_street]  [30, 15]    False   \n",
       " 11180943705 9854237794 0                     residential        30    False   \n",
       "             9176630059 0                     residential        30     True   \n",
       "                        1                     residential       NaN     True   \n",
       " \n",
       "                              length  \\\n",
       " u           v          key            \n",
       " 13472322    13472744   0    697.773   \n",
       "             56585691   0    165.571   \n",
       " 13472516    253231170  0    331.909   \n",
       "             34187360   0    624.813   \n",
       " 13472744    8019223252 0     60.678   \n",
       " ...                             ...   \n",
       " 11179618241 6577552542 0     12.392   \n",
       "             8085633751 0    312.825   \n",
       " 11180943705 9854237794 0     67.948   \n",
       "             9176630059 0     74.419   \n",
       "                        1    294.983   \n",
       " \n",
       "                                                                      geometry  \\\n",
       " u           v          key                                                      \n",
       " 13472322    13472744   0    LINESTRING (-21.77707 64.10594, -21.77739 64.1...   \n",
       "             56585691   0    LINESTRING (-21.77707 64.10594, -21.77690 64.1...   \n",
       " 13472516    253231170  0    LINESTRING (-21.78477 64.12357, -21.78481 64.1...   \n",
       "             34187360   0    LINESTRING (-21.78477 64.12357, -21.78495 64.1...   \n",
       " 13472744    8019223252 0    LINESTRING (-21.78067 64.11192, -21.78045 64.1...   \n",
       " ...                                                                       ...   \n",
       " 11179618241 6577552542 0    LINESTRING (-21.84553 64.13288, -21.84533 64.1...   \n",
       "             8085633751 0    LINESTRING (-21.84553 64.13288, -21.84546 64.1...   \n",
       " 11180943705 9854237794 0    LINESTRING (-21.89025 64.14704, -21.89070 64.1...   \n",
       "             9176630059 0    LINESTRING (-21.89025 64.14704, -21.89020 64.1...   \n",
       "                        1    LINESTRING (-21.89025 64.14704, -21.89033 64.1...   \n",
       " \n",
       "                            bridge width access junction tunnel  \n",
       " u           v          key                                      \n",
       " 13472322    13472744   0      NaN   NaN    NaN      NaN    NaN  \n",
       "             56585691   0      NaN   NaN    NaN      NaN    NaN  \n",
       " 13472516    253231170  0      NaN   NaN    NaN      NaN    NaN  \n",
       "             34187360   0      yes   NaN    NaN      NaN    NaN  \n",
       " 13472744    8019223252 0      NaN   NaN    NaN      NaN    NaN  \n",
       " ...                           ...   ...    ...      ...    ...  \n",
       " 11179618241 6577552542 0      NaN   NaN    NaN      NaN    NaN  \n",
       "             8085633751 0      NaN   NaN    NaN      NaN    NaN  \n",
       " 11180943705 9854237794 0      NaN   NaN    NaN      NaN    NaN  \n",
       "             9176630059 0      NaN   NaN    NaN      NaN    NaN  \n",
       "                        1      NaN   NaN    NaN      NaN    NaN  \n",
       " \n",
       " [10848 rows x 15 columns])"
      ]
     },
     "execution_count": 65,
     "metadata": {},
     "output_type": "execute_result"
    }
   ],
   "source": [
    "iceland_graph = ox.graph_from_place('Reykjavik', network_type='drive')\n",
    "iceland_gdf = ox.graph_to_gdfs(iceland_graph)\n",
    "iceland_gdf[1].columns"
   ]
  },
  {
   "cell_type": "code",
   "execution_count": 13,
   "metadata": {},
   "outputs": [
    {
     "name": "stdout",
     "output_type": "stream",
     "text": [
      "skipping over reading other tags of osm_id: 5096419\n",
      "skipping over reading other tags of osm_id: 5096423\n",
      "skipping over reading other tags of osm_id: 5096426\n",
      "skipping over reading other tags of osm_id: 7997603\n",
      "skipping over reading other tags of osm_id: 16618981\n",
      "skipping over reading other tags of osm_id: 25752609\n",
      "skipping over reading other tags of osm_id: 38290957\n",
      "skipping over reading other tags of osm_id: 48320149\n",
      "skipping over reading other tags of osm_id: 48321029\n",
      "skipping over reading other tags of osm_id: 48321051\n",
      "skipping over reading other tags of osm_id: 48321052\n",
      "skipping over reading other tags of osm_id: 48321062\n",
      "skipping over reading other tags of osm_id: 48321063\n",
      "skipping over reading other tags of osm_id: 48321123\n",
      "skipping over reading other tags of osm_id: 48321136\n",
      "skipping over reading other tags of osm_id: 48321139\n",
      "skipping over reading other tags of osm_id: 48321445\n",
      "skipping over reading other tags of osm_id: 80172077\n",
      "skipping over reading other tags of osm_id: 117627170\n",
      "skipping over reading other tags of osm_id: 141891257\n",
      "skipping over reading other tags of osm_id: 169536948\n",
      "skipping over reading other tags of osm_id: 169537907\n",
      "skipping over reading other tags of osm_id: 169537908\n",
      "skipping over reading other tags of osm_id: 169980482\n",
      "skipping over reading other tags of osm_id: 169980483\n",
      "skipping over reading other tags of osm_id: 169980484\n",
      "skipping over reading other tags of osm_id: 169980485\n",
      "skipping over reading other tags of osm_id: 209079629\n",
      "skipping over reading other tags of osm_id: 211925855\n",
      "skipping over reading other tags of osm_id: 243497676\n",
      "skipping over reading other tags of osm_id: 243497690\n",
      "skipping over reading other tags of osm_id: 243497691\n",
      "skipping over reading other tags of osm_id: 243653801\n",
      "skipping over reading other tags of osm_id: 243653907\n",
      "skipping over reading other tags of osm_id: 243653932\n",
      "skipping over reading other tags of osm_id: 295383918\n",
      "skipping over reading other tags of osm_id: 295383919\n",
      "skipping over reading other tags of osm_id: 375856284\n",
      "skipping over reading other tags of osm_id: 375856285\n",
      "skipping over reading other tags of osm_id: 375856286\n",
      "skipping over reading other tags of osm_id: 375856287\n",
      "skipping over reading other tags of osm_id: 404049940\n",
      "skipping over reading other tags of osm_id: 438265850\n",
      "skipping over reading other tags of osm_id: 467979751\n",
      "skipping over reading other tags of osm_id: 550492372\n",
      "skipping over reading other tags of osm_id: 561595696\n",
      "skipping over reading other tags of osm_id: 596083025\n",
      "skipping over reading other tags of osm_id: 626775242\n",
      "skipping over reading other tags of osm_id: 626775243\n",
      "skipping over reading other tags of osm_id: 678486116\n",
      "skipping over reading other tags of osm_id: 678489295\n",
      "skipping over reading other tags of osm_id: 679356748\n",
      "skipping over reading other tags of osm_id: 685938531\n",
      "skipping over reading other tags of osm_id: 685938533\n",
      "skipping over reading other tags of osm_id: 686101889\n"
     ]
    },
    {
     "name": "stderr",
     "output_type": "stream",
     "text": [
      "/home/mmastro/miniconda3/envs/geo_wb/lib/python3.8/site-packages/pyproj/crs/crs.py:141: FutureWarning: '+init=<authority>:<code>' syntax is deprecated. '<authority>:<code>' is the preferred initialization method. When making the change, be mindful of axis order changes: https://pyproj4.github.io/pyproj/stable/gotchas.html#axis-order-changes-in-proj-6\n",
      "  in_crs_string = _prepare_from_proj_string(in_crs_string)\n",
      "/home/mmastro/miniconda3/envs/geo_wb/lib/python3.8/site-packages/pyproj/crs/crs.py:141: FutureWarning: '+init=<authority>:<code>' syntax is deprecated. '<authority>:<code>' is the preferred initialization method. When making the change, be mindful of axis order changes: https://pyproj4.github.io/pyproj/stable/gotchas.html#axis-order-changes-in-proj-6\n",
      "  in_crs_string = _prepare_from_proj_string(in_crs_string)\n"
     ]
    }
   ],
   "source": [
    "iceland = OSM_to_network(f)"
   ]
  },
  {
   "cell_type": "code",
   "execution_count": 14,
   "metadata": {},
   "outputs": [
    {
     "name": "stdout",
     "output_type": "stream",
     "text": [
      "\u001b[0;31mType:\u001b[0m           OSM_to_network\n",
      "\u001b[0;31mString form:\u001b[0m    <GOSTnets.load_osm.OSM_to_network object at 0x7fdcd07a98e0>\n",
      "\u001b[0;31mFile:\u001b[0m           ~/World_Bank/GOSTnets/GOSTnets/load_osm.py\n",
      "\u001b[0;31mDocstring:\u001b[0m     \n",
      "Object to load OSM PBF to networkX objects.\n",
      "\n",
      "Object to load OSM PBF to networkX objects.     EXAMPLE:     G_loader = losm.OSM_to_network(bufferedOSM_pbf)     G_loader.generateRoadsGDF()     G = G.initialReadIn() \n",
      "snap origins and destinations     o_snapped = gn.pandana_snap(G, origins)     d_snapped = gn.pandana_snap(G, destinations)     \n",
      "\u001b[0;31mInit docstring:\u001b[0m Generate a networkX object from a osm file"
     ]
    }
   ],
   "source": [
    "?iceland"
   ]
  },
  {
   "cell_type": "code",
   "execution_count": 108,
   "metadata": {},
   "outputs": [
    {
     "data": {
      "text/html": [
       "<div>\n",
       "<style scoped>\n",
       "    .dataframe tbody tr th:only-of-type {\n",
       "        vertical-align: middle;\n",
       "    }\n",
       "\n",
       "    .dataframe tbody tr th {\n",
       "        vertical-align: top;\n",
       "    }\n",
       "\n",
       "    .dataframe thead th {\n",
       "        text-align: right;\n",
       "    }\n",
       "</style>\n",
       "<table border=\"1\" class=\"dataframe\">\n",
       "  <thead>\n",
       "    <tr style=\"text-align: right;\">\n",
       "      <th></th>\n",
       "      <th>osm_id</th>\n",
       "      <th>infra_type</th>\n",
       "      <th>one_way</th>\n",
       "      <th>geometry</th>\n",
       "    </tr>\n",
       "  </thead>\n",
       "  <tbody>\n",
       "    <tr>\n",
       "      <th>0</th>\n",
       "      <td>2818432</td>\n",
       "      <td>path</td>\n",
       "      <td>False</td>\n",
       "      <td>LINESTRING (-16.87492 65.61337, -16.87472 65.6...</td>\n",
       "    </tr>\n",
       "    <tr>\n",
       "      <th>1</th>\n",
       "      <td>2818434</td>\n",
       "      <td>path</td>\n",
       "      <td>False</td>\n",
       "      <td>LINESTRING (-16.87107 65.59977, -16.86998 65.5...</td>\n",
       "    </tr>\n",
       "    <tr>\n",
       "      <th>2</th>\n",
       "      <td>2818477</td>\n",
       "      <td>unclassified</td>\n",
       "      <td>False</td>\n",
       "      <td>LINESTRING (-16.91740 65.61072, -16.91708 65.6...</td>\n",
       "    </tr>\n",
       "    <tr>\n",
       "      <th>3</th>\n",
       "      <td>2837331</td>\n",
       "      <td>path</td>\n",
       "      <td>False</td>\n",
       "      <td>LINESTRING (-16.51340 66.00186, -16.51331 66.0...</td>\n",
       "    </tr>\n",
       "    <tr>\n",
       "      <th>4</th>\n",
       "      <td>2837332</td>\n",
       "      <td>service</td>\n",
       "      <td>False</td>\n",
       "      <td>LINESTRING (-16.51283 66.00156, -16.51272 66.0...</td>\n",
       "    </tr>\n",
       "    <tr>\n",
       "      <th>...</th>\n",
       "      <td>...</td>\n",
       "      <td>...</td>\n",
       "      <td>...</td>\n",
       "      <td>...</td>\n",
       "    </tr>\n",
       "    <tr>\n",
       "      <th>84389</th>\n",
       "      <td>688958534</td>\n",
       "      <td>service</td>\n",
       "      <td>False</td>\n",
       "      <td>LINESTRING (-16.18002 64.04791, -16.18012 64.0...</td>\n",
       "    </tr>\n",
       "    <tr>\n",
       "      <th>84390</th>\n",
       "      <td>688958535</td>\n",
       "      <td>service</td>\n",
       "      <td>False</td>\n",
       "      <td>LINESTRING (-16.17835 64.04695, -16.17849 64.0...</td>\n",
       "    </tr>\n",
       "    <tr>\n",
       "      <th>84391</th>\n",
       "      <td>688958536</td>\n",
       "      <td>path</td>\n",
       "      <td>False</td>\n",
       "      <td>LINESTRING (-16.17835 64.04695, -16.17809 64.0...</td>\n",
       "    </tr>\n",
       "    <tr>\n",
       "      <th>84392</th>\n",
       "      <td>688958537</td>\n",
       "      <td>path</td>\n",
       "      <td>False</td>\n",
       "      <td>LINESTRING (-16.18039 64.04797, -16.18082 64.0...</td>\n",
       "    </tr>\n",
       "    <tr>\n",
       "      <th>84393</th>\n",
       "      <td>688971523</td>\n",
       "      <td>track</td>\n",
       "      <td>False</td>\n",
       "      <td>LINESTRING (-16.33578 64.04729, -16.33569 64.0...</td>\n",
       "    </tr>\n",
       "  </tbody>\n",
       "</table>\n",
       "<p>84394 rows × 4 columns</p>\n",
       "</div>"
      ],
      "text/plain": [
       "          osm_id    infra_type  one_way  \\\n",
       "0        2818432          path    False   \n",
       "1        2818434          path    False   \n",
       "2        2818477  unclassified    False   \n",
       "3        2837331          path    False   \n",
       "4        2837332       service    False   \n",
       "...          ...           ...      ...   \n",
       "84389  688958534       service    False   \n",
       "84390  688958535       service    False   \n",
       "84391  688958536          path    False   \n",
       "84392  688958537          path    False   \n",
       "84393  688971523         track    False   \n",
       "\n",
       "                                                geometry  \n",
       "0      LINESTRING (-16.87492 65.61337, -16.87472 65.6...  \n",
       "1      LINESTRING (-16.87107 65.59977, -16.86998 65.5...  \n",
       "2      LINESTRING (-16.91740 65.61072, -16.91708 65.6...  \n",
       "3      LINESTRING (-16.51340 66.00186, -16.51331 66.0...  \n",
       "4      LINESTRING (-16.51283 66.00156, -16.51272 66.0...  \n",
       "...                                                  ...  \n",
       "84389  LINESTRING (-16.18002 64.04791, -16.18012 64.0...  \n",
       "84390  LINESTRING (-16.17835 64.04695, -16.17849 64.0...  \n",
       "84391  LINESTRING (-16.17835 64.04695, -16.17809 64.0...  \n",
       "84392  LINESTRING (-16.18039 64.04797, -16.18082 64.0...  \n",
       "84393  LINESTRING (-16.33578 64.04729, -16.33569 64.0...  \n",
       "\n",
       "[84394 rows x 4 columns]"
      ]
     },
     "execution_count": 108,
     "metadata": {},
     "output_type": "execute_result"
    }
   ],
   "source": [
    "iceland.roads_raw"
   ]
  },
  {
   "cell_type": "code",
   "execution_count": 110,
   "metadata": {},
   "outputs": [
    {
     "data": {
      "text/plain": [
       "infra_type\n",
       "service           25165\n",
       "footway           15868\n",
       "track              9953\n",
       "residential        9519\n",
       "path               7292\n",
       "tertiary           4573\n",
       "unclassified       2997\n",
       "secondary          2898\n",
       "primary            2353\n",
       "trunk              1461\n",
       "steps               793\n",
       "trunk_link          283\n",
       "platform            269\n",
       "bridleway           247\n",
       "primary_link        170\n",
       "cycleway            124\n",
       "secondary_link       95\n",
       "living_street        89\n",
       "tertiary_link        47\n",
       "motorway             40\n",
       "motorway_link        36\n",
       "construction         34\n",
       "pedestrian           24\n",
       "proposed             16\n",
       "road                 14\n",
       "raceway              12\n",
       "corridor              8\n",
       "bus_stop              7\n",
       "planned               2\n",
       "rest_area             2\n",
       "emergency_bay         1\n",
       "abandoned             1\n",
       "services              1\n",
       "Name: count, dtype: int64"
      ]
     },
     "execution_count": 110,
     "metadata": {},
     "output_type": "execute_result"
    }
   ],
   "source": [
    "# show the different highway types and counts\n",
    "iceland.roads_raw.infra_type.value_counts()"
   ]
  },
  {
   "cell_type": "code",
   "execution_count": 19,
   "metadata": {},
   "outputs": [],
   "source": []
  },
  {
   "cell_type": "code",
   "execution_count": 40,
   "metadata": {},
   "outputs": [],
   "source": [
    "# # Import MultiGraph object\n",
    " \n",
    "# G = ox.graph_from_place('Reykjavik', network_type='drive')\n",
    "# ox.plot_graph(G)\n",
    "\n",
    "# Load generic GDF based on location\n",
    "# c\n",
    "# rek = ox.geocode_to_gdf(place_name)\n",
    "# rek"
   ]
  },
  {
   "cell_type": "code",
   "execution_count": 140,
   "metadata": {},
   "outputs": [
    {
     "data": {
      "text/plain": [
       "highway\n",
       "street_lamp        3106\n",
       "footway            1540\n",
       "crossing            813\n",
       "service             477\n",
       "residential         272\n",
       "steps               153\n",
       "path                127\n",
       "primary              84\n",
       "traffic_signals      80\n",
       "tertiary             80\n",
       "secondary            69\n",
       "pedestrian           57\n",
       "living_street        50\n",
       "bus_stop             44\n",
       "cycleway             39\n",
       "give_way             24\n",
       "unclassified         20\n",
       "platform             14\n",
       "corridor              9\n",
       "primary_link          7\n",
       "construction          7\n",
       "stop                  6\n",
       "tertiary_link         2\n",
       "turning_circle        1\n",
       "track                 1\n",
       "mini_roundabout       1\n",
       "secondary_link        1\n",
       "Name: count, dtype: int64"
      ]
     },
     "execution_count": 140,
     "metadata": {},
     "output_type": "execute_result"
    }
   ],
   "source": [
    "import osmnx as ox\n",
    "\n",
    "place_name = \"Reykjavik\"\n",
    "tags = {'highway': True}\n",
    "rek_roads = ox.features_from_address(place_name, tags)\n",
    "\n",
    "# Filter the GeoPandas DataFrame based on the condition\n",
    "filtered_roads = rek_roads[rek_roads['highway'].notnull()]\n",
    "filtered_roads[\"osm_id\"] = filtered_roads.index.droplevel(level=['element_type'])\n",
    "filtered_roads.index = filtered_roads.index.droplevel(level=['element_type'])\n",
    "\n",
    "filtered_roads = filtered_roads[['osm_id', 'highway', 'geometry']]\n",
    "filtered_roads.highway.value_counts()"
   ]
  }
 ],
 "metadata": {
  "kernelspec": {
   "display_name": "geo_wb",
   "language": "python",
   "name": "python3"
  },
  "language_info": {
   "codemirror_mode": {
    "name": "ipython",
    "version": 3
   },
   "file_extension": ".py",
   "mimetype": "text/x-python",
   "name": "python",
   "nbconvert_exporter": "python",
   "pygments_lexer": "ipython3",
   "version": "3.8.18"
  }
 },
 "nbformat": 4,
 "nbformat_minor": 2
}
